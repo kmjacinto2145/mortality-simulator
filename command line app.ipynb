{
 "cells": [
  {
   "cell_type": "code",
   "execution_count": 131,
   "metadata": {},
   "outputs": [],
   "source": [
    "import numpy as np\n",
    "import pandas as pd\n",
    "import scipy as sp\n",
    "import matplotlib.pyplot as plt\n",
    "import seaborn as sns"
   ]
  },
  {
   "cell_type": "code",
   "execution_count": 2,
   "metadata": {},
   "outputs": [],
   "source": [
    "#Data import\n",
    "aus_male_table = pd.read_csv(\"AusMaleTables.csv\")\n",
    "aus_female_table = pd.read_csv(\"AusFemaleTables.csv\")"
   ]
  },
  {
   "cell_type": "code",
   "execution_count": 143,
   "metadata": {},
   "outputs": [],
   "source": [
    "#parameters\n",
    "STARTING_AGE = 22\n",
    "TABLE = aus_male_table\n",
    "SIMULATIONS = 200\n",
    "ALPHA = 0.95"
   ]
  },
  {
   "cell_type": "code",
   "execution_count": 96,
   "metadata": {},
   "outputs": [],
   "source": [
    "def simulate_life(age, table):\n",
    "    current_age = age\n",
    "    alive = True\n",
    "    while alive:\n",
    "        qx = table[table[\"Age\"] == current_age][\"qx\"]\n",
    "        is_dead = np.random.binomial(n = 1, p = qx, size = 1)\n",
    "        if is_dead == 1:\n",
    "            alive = False\n",
    "        current_age += 1\n",
    "    return current_age"
   ]
  },
  {
   "cell_type": "code",
   "execution_count": 144,
   "metadata": {},
   "outputs": [
    {
     "name": "stdout",
     "output_type": "stream",
     "text": [
      "You will probably live to a median age of 84.0!\n",
      "95% confidence interval: (76.39142297526199, 84.05302146918247)\n"
     ]
    },
    {
     "data": {
      "image/png": "[encoded data removed]",
      "text/plain": [
       "<Figure size 432x288 with 1 Axes>"
      ]
     },
     "metadata": {
      "needs_background": "light"
     },
     "output_type": "display_data"
    }
   ],
   "source": [
    "if __name__ == '__main__':\n",
    "    \n",
    "    simulated_lives = np.array([])\n",
    "    \n",
    "    for i in range(SIMULATIONS):\n",
    "        print(\"Simulation {0} of {1}\".format(i + 1, SIMULATIONS), end = \"\\r\")\n",
    "        simulated_lives = np.append(simulated_lives, simulate_life(STARTING_AGE, TABLE))\n",
    "    \n",
    "    print(\"You will probably live to a median age of \" + str(np.median(simulated_lives)) + \"!\") \n",
    "    confint = sp.stats.t.interval(alpha = ALPHA, \n",
    "                        df = len(simulations) - 1, \n",
    "                        loc = np.mean(simulations), \n",
    "                        scale = sp.stats.sem(simulations))\n",
    "    print(\"95% confidence interval:\", confint)\n",
    "    \n",
    "    plt.xlabel(\"Age\")\n",
    "    sns.histplot(data = simulated_lives, binwidth = 4)"
   ]
  },
  {
   "cell_type": "code",
   "execution_count": 145,
   "metadata": {},
   "outputs": [],
   "source": [
    "is_dead = np.random.binomial(n = 1, p = 0.3, size = 1)"
   ]
  },
  {
   "cell_type": "code",
   "execution_count": 147,
   "metadata": {},
   "outputs": [
    {
     "data": {
      "text/plain": [
       "array([ True])"
      ]
     },
     "execution_count": 147,
     "metadata": {},
     "output_type": "execute_result"
    }
   ],
   "source": [
    "is_dead == 0"
   ]
  },
  {
   "cell_type": "code",
   "execution_count": null,
   "metadata": {},
   "outputs": [],
   "source": []
  }
 ],
 "metadata": {
  "kernelspec": {
   "display_name": "data2",
   "language": "python",
   "name": "data2"
  },
  "language_info": {
   "codemirror_mode": {
    "name": "ipython",
    "version": 3
   },
   "file_extension": ".py",
   "mimetype": "text/x-python",
   "name": "python",
   "nbconvert_exporter": "python",
   "pygments_lexer": "ipython3",
   "version": "3.7.7"
  }
 },
 "nbformat": 4,
 "nbformat_minor": 4
}
